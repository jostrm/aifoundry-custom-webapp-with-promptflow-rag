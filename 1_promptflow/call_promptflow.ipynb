{
 "cells": [
  {
   "cell_type": "code",
   "execution_count": null,
   "metadata": {},
   "outputs": [],
   "source": [
    "import urllib.request\n",
    "import json\n",
    "import os\n",
    "import ssl\n",
    "import time\n",
    "\n",
    "def allowSelfSignedHttps(allowed):\n",
    "    # bypass the server certificate verification on client side\n",
    "    if allowed and not os.environ.get('PYTHONHTTPSVERIFY', '') and getattr(ssl, '_create_unverified_context', None):\n",
    "        ssl._create_default_https_context = ssl._create_unverified_context\n",
    "\n",
    "allowSelfSignedHttps(True) # this line is needed if you use self-signed certificate in your scoring service.\n",
    "\n",
    "url = os.getenv(\"PROMPTFLOW_ENDPOINT\")\n",
    "api_key = os.getenv(\"PROMPTFLOW_API_KEY\")\n",
    "\n",
    "if not url:\n",
    "    raise Exception(\"The API endpoint URL must be provided in the environment variable 'PROMPTFLOW_ENDPOINT'.\")\n",
    "\n",
    "if not api_key:\n",
    "    raise Exception(\"The API key must be provided in the environment variable 'PROMPTFLOW_API_KEY'.\")\n",
    "\n",
    "chat_history = [{\"inputs\": {\"query\": \"Hi\"},\"outputs\": {\"reply\": \"Hello, what can I help you with today? Anything you want to buy?\"}}]\n",
    "q = \"What did John Smith buy?\"\n",
    "data = {\n",
    "    \"chat_history\": chat_history,\n",
    "    \"query\": q\n",
    "}\n",
    "\n",
    "body = str.encode(json.dumps(data))\n",
    "headers = {\n",
    "    'Content-Type': 'application/json',\n",
    "    'Authorization': 'Bearer ' + api_key\n",
    "    #,'azureml-model-deployment': 'ep-prj005-dec05-1'\n",
    "}\n",
    "\n",
    "# Debugging:\n",
    "#print(\"Request URL:\", url)\n",
    "print(\"Request Body:\", json.dumps(data, indent=2))\n",
    "\n",
    "req = urllib.request.Request(url, body, headers)\n",
    "\n",
    "try:\n",
    "    response = urllib.request.urlopen(req)\n",
    "    result = response.read()\n",
    "    a = json.loads(result).get(\"reply\", \"The requested information is not available in the retrieved data.\")\n",
    "    print(a)\n",
    "    time.sleep(1)\n",
    "except urllib.error.HTTPError as error:\n",
    "    print(\"The request failed with status code: \" + str(error.code))\n",
    "    print(error.info())\n",
    "    print(error.read().decode(\"utf8\", 'ignore'))"
   ]
  }
 ],
 "metadata": {
  "kernelspec": {
   "display_name": ".venv",
   "language": "python",
   "name": "python3"
  },
  "language_info": {
   "codemirror_mode": {
    "name": "ipython",
    "version": 3
   },
   "file_extension": ".py",
   "mimetype": "text/x-python",
   "name": "python",
   "nbconvert_exporter": "python",
   "pygments_lexer": "ipython3",
   "version": "3.10.15"
  }
 },
 "nbformat": 4,
 "nbformat_minor": 2
}
